{
 "cells": [
  {
   "cell_type": "code",
   "execution_count": 1,
   "id": "8ed0f8c2",
   "metadata": {
    "vscode": {
     "languageId": "plaintext"
    }
   },
   "outputs": [
    {
     "name": "stdout",
     "output_type": "stream",
     "text": [
      "✅ Setup Complete: All libraries and the custom interpreter are loaded.\n"
     ]
    }
   ],
   "source": [
    "import json\n",
    "import requests\n",
    "import time\n",
    "import traceback\n",
    "import re\n",
    "from ipywidgets import Textarea, VBox, Button, Output, IntProgress, Layout\n",
    "from IPython.display import display, clear_output, HTML\n",
    "\n",
    "# Import our custom interpreter function from the src folder\n",
    "from src.interpreter import calculate_bill_from_dsl\n",
    "\n",
    "print(\"✅ Setup Complete: All libraries and the custom interpreter are loaded.\")"
   ]
  },
  {
   "cell_type": "code",
   "execution_count": 2,
   "id": "f7da1b66",
   "metadata": {
    "vscode": {
     "languageId": "plaintext"
    }
   },
   "outputs": [
    {
     "name": "stdout",
     "output_type": "stream",
     "text": [
      "✅ List of 3 user orders defined successfully.\n"
     ]
    }
   ],
   "source": [
    "user_orders = [\n",
    "    \"We had two schnitzels at 15 euros each and a large beer for 5 euros.\",\n",
    "    \"My order was one salad for 12 euro and a bottle of water for 4 euro.\",\n",
    "    \"The total for our food was 50 euros, and we had a bottle of wine for 25. The service was great, so add a 10 euro tip to the bill.\"\n",
    "]\n",
    "\n",
    "print(f\"✅ List of {len(user_orders)} user orders defined successfully.\")"
   ]
  },
  {
   "cell_type": "code",
   "execution_count": null,
   "id": "d41f6af1",
   "metadata": {
    "vscode": {
     "languageId": "plaintext"
    }
   },
   "outputs": [
    {
     "name": "stdout",
     "output_type": "stream",
     "text": [
      "--- DSL Validator ---\n"
     ]
    },
    {
     "data": {
      "application/vnd.jupyter.widget-view+json": {
       "model_id": "6144c9d162a849a9aeaa59ad90c59a91",
       "version_major": 2,
       "version_minor": 0
      },
      "text/plain": [
       "VBox(children=(Textarea(value='We had two schnitzels at 15 euros each and a large beer for 5 euros.', descript…"
      ]
     },
     "metadata": {},
     "output_type": "display_data"
    }
   ],
   "source": [
    "def create_lark_demo():\n",
    "    query_input = Textarea(\n",
    "        value=user_orders[0],\n",
    "        placeholder='Paste an order here...',\n",
    "        description='Customer Order:',\n",
    "        style={'description_width': 'initial'},\n",
    "        layout={'width': '95%', 'height': '100px'}\n",
    "    )\n",
    "\n",
    "    run_button = Button(description='Generate DSL & Calculate', button_style='success', icon='play')\n",
    "    progress_bar = IntProgress(value=0, min=0, max=10, description='Waiting...', bar_style='info', orientation='horizontal', layout={'visibility': 'hidden'})\n",
    "    output_area = Output()\n",
    "\n",
    "    def extract_dsl_from_string(text):\n",
    "        match = re.search(r'bill\\s*\\{[^}]*\\}', text, re.DOTALL)\n",
    "        return match.group(0) if match else None\n",
    "\n",
    "    def run_live_demo(button):\n",
    "        with output_area:\n",
    "            clear_output(wait=True)\n",
    "            run_button.disabled = True\n",
    "            progress_bar.description = 'Sending...'\n",
    "            progress_bar.layout.visibility = 'visible'\n",
    "            \n",
    "            user_query = query_input.value\n",
    "            \n",
    "            # --- NEW PROMPT FOR THE UPGRADED DSL ---\n",
    "            prompt = f\"\"\"\n",
    "            You are a helpful assistant that translates natural language into a custom DSL.\n",
    "            The DSL format is:\n",
    "            bill {{\n",
    "              itemName: quantity * pricePerItem\n",
    "              anotherItemName: price\n",
    "            }}\n",
    "            \n",
    "            Translate the following user order into this DSL. The item names should be simple, lowercase words.\n",
    "\n",
    "            User Order: \"{user_query}\"\n",
    "            \n",
    "            DSL Response:\n",
    "            \"\"\"\n",
    "            \n",
    "            llm_raw_output = \"\"\n",
    "            try:\n",
    "                api_response_stream = requests.post('http://localhost:11434/api/generate', json={ \"model\": \"llama3:8b\", \"prompt\": prompt, \"stream\": True }, stream=True)\n",
    "                api_response_stream.raise_for_status()\n",
    "                progress_bar.description = 'LLM Generating DSL...'; progress_bar.value = 5\n",
    "                \n",
    "                llm_raw_output = \"\".join(json.loads(chunk).get('response', '') for chunk in api_response_stream.iter_lines() if chunk)\n",
    "                \n",
    "                progress_bar.value = 10\n",
    "                \n",
    "                if not llm_raw_output.strip():\n",
    "                    raise ValueError(\"The LLM returned an empty response.\")\n",
    "\n",
    "                llm_dsl_code = extract_dsl_from_string(llm_raw_output)\n",
    "                if not llm_dsl_code:\n",
    "                    raise ValueError(\"Could not find valid DSL code in the LLM's response.\")\n",
    "\n",
    "                display(HTML(\"<h4>1. LLM Translation</h4>\"))\n",
    "                display(HTML(f\"<p>The LLM translated the user's order into the following DSL code:</p><pre style='background-color:#f5f5f5; border: 1px solid #ccc; padding: 10px; border-radius: 5px;'>{llm_dsl_code}</pre>\"))\n",
    "\n",
    "                display(HTML(\"<h4>2. Interpreter Execution Result</h4>\"))\n",
    "                \n",
    "                # This call now works correctly.\n",
    "                dsl_result = calculate_bill_from_dsl(llm_dsl_code, 'tax_rules.dsl')\n",
    "\n",
    "                result_html = f\"\"\"\n",
    "                <p>Our custom interpreter executed the DSL code and produced the following, guaranteed-correct result:</p>\n",
    "                <table style=\"width:100%; border-collapse: collapse;\">\n",
    "                  <tr style=\"background-color:#f2f2f2;\"><th style=\"text-align:left; padding:8px; border: 1px solid #ddd;\">Component</th><th style=\"text-align:right; padding:8px; border: 1px solid #ddd;\">Calculated Value</th></tr>\n",
    "                  <tr><td style=\"padding:8px; border: 1px solid #ddd;\">Net Food Cost</td><td style=\"text-align:right; padding:8px; border: 1px solid #ddd;\">€{dsl_result['net_food_cost']:.2f}</td></tr>\n",
    "                  <tr><td style=\"padding:8px; border: 1px solid #ddd;\">Net Drink Cost</td><td style=\"text-align:right; padding:8px; border: 1px solid #ddd;\">€{dsl_result['net_drink_cost']:.2f}</td></tr>\n",
    "                  <tr><td style=\"padding:8px; border: 1px solid #ddd;\">Total Tax</td><td style=\"text-align:right; padding:8px; border: 1px solid #ddd;\">€{dsl_result['total_tax']:.2f}</td></tr>\n",
    "                  <tr style=\"font-weight:bold; background-color:#f2f2f2;\"><td style=\"padding:8px; border: 1px solid #ddd;\">FINAL BILL</td><td style=\"text-align:right; padding:8px; border: 1px solid #ddd;\">€{dsl_result['final_bill']:.2f}</td></tr>\n",
    "                </table>\n",
    "                \"\"\"\n",
    "                display(HTML(result_html))\n",
    "\n",
    "            except (ValueError, json.JSONDecodeError) as e:\n",
    "                print(f\"🔴 LLM HALLUCINATION DETECTED: {e}\")\n",
    "                print(\"\\n--- LLM's Actual (Broken) Output ---\")\n",
    "                print(llm_raw_output)\n",
    "            except Exception:\n",
    "                print(\"🔴 An unexpected error occurred. Full traceback below:\")\n",
    "                traceback.print_exc()\n",
    "            finally:\n",
    "                run_button.disabled = False\n",
    "                progress_bar.layout.visibility = 'hidden'\n",
    "                progress_bar.value = 0\n",
    "\n",
    "    run_button.on_click(run_live_demo)\n",
    "    print(\"--- DSL Validator ---\")\n",
    "    display(VBox([query_input, run_button, progress_bar, output_area]))\n",
    "\n",
    "# --- Run the function to display the UI ---\n",
    "create_lark_demo()"
   ]
  },
  {
   "cell_type": "code",
   "execution_count": null,
   "id": "026b23a9-f680-47f1-8bb4-d7815c3b5f81",
   "metadata": {},
   "outputs": [],
   "source": []
  }
 ],
 "metadata": {
  "kernelspec": {
   "display_name": "Python 3 (ipykernel)",
   "language": "python",
   "name": "python3"
  },
  "language_info": {
   "codemirror_mode": {
    "name": "ipython",
    "version": 3
   },
   "file_extension": ".py",
   "mimetype": "text/x-python",
   "name": "python",
   "nbconvert_exporter": "python",
   "pygments_lexer": "ipython3",
   "version": "3.12.10"
  }
 },
 "nbformat": 4,
 "nbformat_minor": 5
}
