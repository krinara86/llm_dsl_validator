{
 "cells": [
  {
   "cell_type": "code",
   "execution_count": 1,
   "id": "8ed0f8c2",
   "metadata": {},
   "outputs": [
    {
     "name": "stdout",
     "output_type": "stream",
     "text": [
      "✅ System ready.\n"
     ]
    }
   ],
   "source": [
    "# Import necessary libraries for the UI and our core logic\n",
    "import sys\n",
    "sys.path.append('..') # Add the parent directory (project root) to the Python path\n",
    "\n",
    "from ipywidgets import Textarea, VBox, Button, Output, IntProgress, Layout\n",
    "from IPython.display import display, clear_output, HTML\n",
    "import time\n",
    "import traceback\n",
    "\n",
    "# Import our main function from the src package\n",
    "from src.core import process_order_request\n",
    "\n",
    "# --- Define the User Queries ---\n",
    "user_orders = [\n",
    "    \"We had two burgers at 10 euros each and a large soda for 3 euros.\",\n",
    "    \"My order was one salad for 12 euro and a bottle of water for 4 euro.\",\n",
    "    \"The total for our food was 50 euros, and we had a bottle of wine for 25. The service was great, so add a 10 euro tip to the bill.\"\n",
    "]\n",
    "\n",
    "print(\"✅ System ready.\")"
   ]
  },
  {
   "cell_type": "code",
   "execution_count": 2,
   "id": "f7da1b66",
   "metadata": {},
   "outputs": [
    {
     "name": "stdout",
     "output_type": "stream",
     "text": [
      "--- DSL Validator ---\n"
     ]
    },
    {
     "data": {
      "application/vnd.jupyter.widget-view+json": {
       "model_id": "48905b8fc7e946feb3603ad0dfef39bc",
       "version_major": 2,
       "version_minor": 0
      },
      "text/plain": [
       "VBox(children=(Textarea(value='We had two burgers at 10 euros each and a large soda for 3 euros.', description…"
      ]
     },
     "metadata": {},
     "output_type": "display_data"
    }
   ],
   "source": [
    "def create_validator_ui():\n",
    "    query_input = Textarea(\n",
    "        value=user_orders[0],\n",
    "        placeholder='Paste an order here...',\n",
    "        description='Customer Order:',\n",
    "        style={'description_width': 'initial'},\n",
    "        layout={'width': '95%', 'height': '100px'}\n",
    "    )\n",
    "    run_button = Button(description='Generate DSL & Calculate', button_style='success', icon='play')\n",
    "    progress_bar = IntProgress(value=0, min=0, max=10, description='Waiting...', bar_style='info', orientation='horizontal', layout={'visibility': 'hidden'})\n",
    "    output_area = Output()\n",
    "\n",
    "    def run_analysis(button):\n",
    "        with output_area:\n",
    "            clear_output(wait=True)\n",
    "            run_button.disabled = True\n",
    "            progress_bar.description = 'LLM processing...'\n",
    "            progress_bar.layout.visibility = 'visible'\n",
    "            progress_bar.value = 5\n",
    "\n",
    "            # --- Call our core logic function ---\n",
    "            result = process_order_request(query_input.value)\n",
    "            \n",
    "            progress_bar.value = 10\n",
    "\n",
    "            if result[\"status\"] == \"success\":\n",
    "                display(HTML(\"<h4>1. LLM-Generated DSL Code</h4>\"))\n",
    "                display(HTML(f\"<pre style='background-color:#f5f5f5; border: 1px solid #ccc; padding: 10px; border-radius: 5px;'>{result['llm_generated_dsl']}</pre>\"))\n",
    "                \n",
    "                display(HTML(\"<h4>2. Interpreter Execution Result</h4>\"))\n",
    "                dsl_result = result['interpreter_result']\n",
    "                result_html = f\"\"\"\n",
    "                <table style=\"width:100%; border-collapse: collapse;\">\n",
    "                  <tr style=\"background-color:#f2f2f2;\"><th style=\"text-align:left; padding:8px; border: 1px solid #ddd;\">Component</th><th style=\"text-align:right; padding:8px; border: 1px solid #ddd;\">Calculated Value</th></tr>\n",
    "                  <tr><td style=\"padding:8px; border: 1px solid #ddd;\">Net Food Cost</td><td style=\"text-align:right; padding:8px; border: 1px solid #ddd;\">€{dsl_result['net_food_cost']:.2f}</td></tr>\n",
    "                  <tr><td style=\"padding:8px; border: 1px solid #ddd;\">Net Drink Cost</td><td style=\"text-align:right; padding:8px; border: 1px solid #ddd;\">€{dsl_result['net_drink_cost']:.2f}</td></tr>\n",
    "                  <tr><td style=\"padding:8px; border: 1px solid #ddd;\">Total Tax</td><td style=\"text-align:right; padding:8px; border: 1px solid #ddd;\">€{dsl_result['total_tax']:.2f}</td></tr>\n",
    "                  <tr style=\"font-weight:bold; background-color:#f2f2f2;\"><td style=\"padding:8px; border: 1px solid #ddd;\">FINAL BILL</td><td style=\"text-align:right; padding:8px; border: 1px solid #ddd;\">€{dsl_result['final_bill']:.2f}</td></tr>\n",
    "                </table>\n",
    "                \"\"\"\n",
    "                display(HTML(result_html))\n",
    "            else:\n",
    "                print(f\"🔴 PROCESSING ERROR: {result['message']}\")\n",
    "\n",
    "            run_button.disabled = False\n",
    "            progress_bar.layout.visibility = 'hidden'\n",
    "            progress_bar.value = 0\n",
    "\n",
    "    run_button.on_click(run_analysis)\n",
    "    print(\"--- DSL Validator ---\")\n",
    "    display(VBox([query_input, run_button, progress_bar, output_area]))\n",
    "\n",
    "# --- Run the function to display the UI ---\n",
    "create_validator_ui()"
   ]
  },
  {
   "cell_type": "code",
   "execution_count": null,
   "id": "7c322015-5025-4d0d-b682-fd6d8cac71c8",
   "metadata": {},
   "outputs": [],
   "source": []
  }
 ],
 "metadata": {
  "kernelspec": {
   "display_name": "Python 3 (ipykernel)",
   "language": "python",
   "name": "python3"
  },
  "language_info": {
   "codemirror_mode": {
    "name": "ipython",
    "version": 3
   },
   "file_extension": ".py",
   "mimetype": "text/x-python",
   "name": "python",
   "nbconvert_exporter": "python",
   "pygments_lexer": "ipython3",
   "version": "3.12.10"
  }
 },
 "nbformat": 4,
 "nbformat_minor": 5
}
