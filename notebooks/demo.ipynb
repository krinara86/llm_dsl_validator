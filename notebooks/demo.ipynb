{
 "cells": [
  {
   "cell_type": "code",
   "execution_count": 1,
   "id": "8ed0f8c2",
   "metadata": {},
   "outputs": [
    {
     "name": "stdout",
     "output_type": "stream",
     "text": [
      "✅ System ready. Two domains are configured.\n"
     ]
    }
   ],
   "source": [
    "import sys\n",
    "sys.path.append('..')\n",
    "from ipywidgets import Textarea, VBox, Button, Output, IntProgress, Layout, Dropdown\n",
    "from IPython.display import display, clear_output, HTML\n",
    "import time\n",
    "import traceback\n",
    "from src.core import process_order_request, process_ride_plan_request\n",
    "\n",
    "# --- Define User Queries for Both Domains ---\n",
    "tax_queries = [\n",
    "    \"We had two burgers at 10 euros each and a large soda for 3 euros.\",\n",
    "    \"My order was one salad for 12 euro and a bottle of water for 4 euro.\"\n",
    "]\n",
    "cycling_queries = [\n",
    "    \"I want to plan a long, flat ride. Let's say 100 kilometers.\",\n",
    "    \"Let's plan a challenging 50km ride through some hilly terrain.\",\n",
    "    \"I'm training for the mountains, plan a 75km ride with mountainous terrain.\"\n",
    "]\n",
    "print(\"✅ System ready. Two domains are configured.\")"
   ]
  },
  {
   "cell_type": "code",
   "execution_count": 2,
   "id": "f7da1b66",
   "metadata": {},
   "outputs": [
    {
     "name": "stdout",
     "output_type": "stream",
     "text": [
      "--- Multi-Domain DSL Validator ---\n"
     ]
    },
    {
     "data": {
      "application/vnd.jupyter.widget-view+json": {
       "model_id": "a0690184cb5f43d6a10c48e358a83b24",
       "version_major": 2,
       "version_minor": 0
      },
      "text/plain": [
       "VBox(children=(Dropdown(description='Select Domain:', options=('Tax Calculation', 'Cycling Ride Planner'), sty…"
      ]
     },
     "metadata": {},
     "output_type": "display_data"
    }
   ],
   "source": [
    "def create_multi_domain_ui():\n",
    "    domain_selector = Dropdown(\n",
    "        options=['Tax Calculation', 'Cycling Ride Planner'],\n",
    "        value='Tax Calculation',\n",
    "        description='Select Domain:',\n",
    "        style={'description_width': 'initial'}\n",
    "    )\n",
    "    query_input = Textarea(\n",
    "        value=tax_queries[0],\n",
    "        description='User Query:',\n",
    "        style={'description_width': 'initial'},\n",
    "        layout={'width': '95%', 'height': '100px'}\n",
    "    )\n",
    "    run_button = Button(description='Generate DSL & Execute', button_style='success', icon='play')\n",
    "    progress_bar = IntProgress(value=0, min=0, max=10, description='Waiting...', bar_style='info', orientation='horizontal', layout={'visibility': 'hidden'})\n",
    "    output_area = Output()\n",
    "\n",
    "    def on_domain_change(change):\n",
    "        if change['new'] == 'Tax Calculation':\n",
    "            query_input.value = tax_queries[0]\n",
    "        else:\n",
    "            query_input.value = cycling_queries[0]\n",
    "    domain_selector.observe(on_domain_change, names='value')\n",
    "\n",
    "    def run_analysis(button):\n",
    "        with output_area:\n",
    "            clear_output(wait=True)\n",
    "            run_button.disabled = True\n",
    "            progress_bar.description = 'LLM processing...'; progress_bar.layout.visibility = 'visible'; progress_bar.value = 5\n",
    "\n",
    "            domain = domain_selector.value\n",
    "            query = query_input.value\n",
    "\n",
    "            result = process_order_request(query) if domain == 'Tax Calculation' else process_ride_plan_request(query)\n",
    "\n",
    "            progress_bar.value = 10\n",
    "            if result[\"status\"] == \"success\":\n",
    "                display(HTML(\"<h4>1. LLM-Generated DSL Code</h4>\"))\n",
    "                display(HTML(f\"<pre style='background-color:#f5f5f5; border: 1px solid #ccc; padding: 10px; border-radius: 5px;'>{result['llm_generated_dsl']}</pre>\"))\n",
    "\n",
    "                display(HTML(\"<h4>2. Interpreter Execution Result</h4>\"))\n",
    "                dsl_result = result['interpreter_result']\n",
    "\n",
    "                if domain == 'Tax Calculation':\n",
    "                    display(HTML(f\"\"\"\n",
    "                    <table style=\"width:100%; border-collapse: collapse;\">\n",
    "                      <tr style=\"background-color:#f2f2f2;\"><th style=\"text-align:left; padding:8px; border: 1px solid #ddd;\">Component</th><th style=\"text-align:right; padding:8px; border: 1px solid #ddd;\">Calculated Value</th></tr>\n",
    "                      <tr><td style=\"padding:8px; border: 1px solid #ddd;\">Net Food Cost</td><td style=\"text-align:right; padding:8px; border: 1px solid #ddd;\">€{dsl_result['net_food_cost']:.2f}</td></tr>\n",
    "                      <tr><td style=\"padding:8px; border: 1px solid #ddd;\">Net Drink Cost</td><td style=\"text-align:right; padding:8px; border: 1px solid #ddd;\">€{dsl_result['net_drink_cost']:.2f}</td></tr>\n",
    "                      <tr><td style=\"padding:8px; border: 1px solid #ddd;\">Total Tax</td><td style=\"text-align:right; padding:8px; border: 1px solid #ddd;\">€{dsl_result['total_tax']:.2f}</td></tr>\n",
    "                      <tr style=\"font-weight:bold; background-color:#f2f2f2;\"><td style=\"padding:8px; border: 1px solid #ddd;\">FINAL BILL</td><td style=\"text-align:right; padding:8px; border: 1px solid #ddd;\">€{dsl_result['final_bill']:.2f}</td></tr>\n",
    "                    </table>\"\"\"))\n",
    "                else: # Cycling Domain\n",
    "                    display(HTML(f\"\"\"\n",
    "                    <p>The interpreter calculated the following based on the DSL:</p>\n",
    "                    <ul>\n",
    "                        <li><b>Distance:</b> {dsl_result['input_properties'].get('distance_km', 0)} km</li>\n",
    "                        <li><b>Terrain:</b> {dsl_result['input_properties'].get('terrain', 'N/A')}</li>\n",
    "                        <li style=\"font-weight:bold;\">Estimated Duration: {dsl_result['estimated_duration_hours']:.2f} hours</li>\n",
    "                    </ul>\n",
    "                    \"\"\"))\n",
    "            else:\n",
    "                print(f\"🔴 PROCESSING ERROR: {result['message']}\")\n",
    "\n",
    "            run_button.disabled = False; progress_bar.layout.visibility = 'hidden'; progress_bar.value = 0\n",
    "    run_button.on_click(run_analysis)\n",
    "    print(\"--- Multi-Domain DSL Validator ---\")\n",
    "    display(VBox([domain_selector, query_input, run_button, progress_bar, output_area]))\n",
    "\n",
    "create_multi_domain_ui()"
   ]
  },
  {
   "cell_type": "code",
   "execution_count": null,
   "id": "7c322015-5025-4d0d-b682-fd6d8cac71c8",
   "metadata": {},
   "outputs": [],
   "source": []
  }
 ],
 "metadata": {
  "kernelspec": {
   "display_name": "Python 3 (ipykernel)",
   "language": "python",
   "name": "python3"
  },
  "language_info": {
   "codemirror_mode": {
    "name": "ipython",
    "version": 3
   },
   "file_extension": ".py",
   "mimetype": "text/x-python",
   "name": "python",
   "nbconvert_exporter": "python",
   "pygments_lexer": "ipython3",
   "version": "3.12.10"
  }
 },
 "nbformat": 4,
 "nbformat_minor": 5
}
