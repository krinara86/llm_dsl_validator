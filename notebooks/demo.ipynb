{
 "cells": [
  {
   "cell_type": "code",
   "execution_count": 1,
   "id": "8ed0f8c2",
   "metadata": {},
   "outputs": [
    {
     "name": "stdout",
     "output_type": "stream",
     "text": [
      "✅ System ready. Three domains are configured.\n"
     ]
    }
   ],
   "source": [
    "import sys\n",
    "sys.path.append('..')\n",
    "import requests\n",
    "from ipywidgets import Textarea, VBox, Button, Output, IntProgress, Layout, Dropdown\n",
    "from IPython.display import display, clear_output, HTML\n",
    "import time\n",
    "import traceback\n",
    "from src.core import (\n",
    "    process_order_request, \n",
    "    process_ride_plan_request, \n",
    "    process_event_plan_request\n",
    ")\n",
    "\n",
    "# --- Define User Queries for All Domains ---\n",
    "tax_queries = [\n",
    "    \"We had two burgers at 10 euros each and a large soda for 3 euros.\"\n",
    "]\n",
    "cycling_queries = [\n",
    "    \"I want to plan a long, flat ride. Let's say 100 kilometers.\"\n",
    "]\n",
    "event_queries = [\n",
    "    \"Let's plan our AI Summit. We need to book Dr. Sharma for a session called 'Intro to Transformers'. It will be in the Grand Ballroom, which has a capacity of 500 and A/V. We expect 450 people.\",\n",
    "    \"Let's plan our AI Summit. We need a 'Deep Dive into NLP' workshop in Workshop Room A, which has a capacity of 40 but no A/V system. The workshop requires A/V and will have 35 attendees.\"\n",
    "]\n",
    "print(\"✅ System ready. Three domains are configured.\")"
   ]
  },
  {
   "cell_type": "code",
   "execution_count": 2,
   "id": "f7da1b66",
   "metadata": {},
   "outputs": [
    {
     "name": "stdout",
     "output_type": "stream",
     "text": [
      "--- Multi-Domain DSL Validator ---\n"
     ]
    },
    {
     "data": {
      "application/vnd.jupyter.widget-view+json": {
       "model_id": "07f39bd9cd484aa98aa9cf5406992554",
       "version_major": 2,
       "version_minor": 0
      },
      "text/plain": [
       "VBox(children=(Dropdown(description='Select Model:', options=('gemma:2b', 'llama3:8b'), style=DescriptionStyle…"
      ]
     },
     "metadata": {},
     "output_type": "display_data"
    }
   ],
   "source": [
    "def get_available_models():\n",
    "    \"\"\"Fetches a list of available models from the Ollama API.\"\"\"\n",
    "    try:\n",
    "        response = requests.get('http://localhost:11434/api/tags')\n",
    "        response.raise_for_status()\n",
    "        models = response.json().get('models', [])\n",
    "        return [model['name'] for model in models]\n",
    "    except requests.exceptions.RequestException:\n",
    "        return []\n",
    "\n",
    "def create_multi_domain_ui():\n",
    "    available_models = get_available_models()\n",
    "    if not available_models:\n",
    "        display(HTML(\"<p style='color:red; font-weight:bold;'>ERROR: Could not connect to Ollama. Please ensure it is running and you have pulled at least one model (e.g., 'ollama pull llama3:8b').</p>\"))\n",
    "        return\n",
    "\n",
    "    model_selector = Dropdown(\n",
    "        options=available_models,\n",
    "        value=available_models[0],\n",
    "        description='Select Model:',\n",
    "        style={'description_width': 'initial'}\n",
    "    )\n",
    "\n",
    "    domain_selector = Dropdown(\n",
    "        options=['Tax Calculation', 'Cycling Ride Planner', 'Event Planning'],\n",
    "        value='Tax Calculation',\n",
    "        description='Select Domain:',\n",
    "        style={'description_width': 'initial'}\n",
    "    )\n",
    "    query_input = Textarea(\n",
    "        value=tax_queries[0],\n",
    "        description='User Query:',\n",
    "        style={'description_width': 'initial'},\n",
    "        layout={'width': '95%', 'height': '100px'}\n",
    "    )\n",
    "    run_button = Button(description='Generate DSL & Execute', button_style='success', icon='play')\n",
    "    progress_bar = IntProgress(value=0, min=0, max=10, description='Waiting...', bar_style='info', orientation='horizontal', layout={'visibility': 'hidden'})\n",
    "    output_area = Output()\n",
    "\n",
    "    def on_domain_change(change):\n",
    "        domain = change['new']\n",
    "        if domain == 'Tax Calculation': query_input.value = tax_queries[0]\n",
    "        elif domain == 'Cycling Ride Planner': query_input.value = cycling_queries[0]\n",
    "        elif domain == 'Event Planning': query_input.value = event_queries[0]\n",
    "    domain_selector.observe(on_domain_change, names='value')\n",
    "\n",
    "    def run_analysis(button):\n",
    "        with output_area:\n",
    "            clear_output(wait=True)\n",
    "            run_button.disabled = True\n",
    "            progress_bar.description = 'LLM processing...'; progress_bar.layout.visibility = 'visible'; progress_bar.value = 5\n",
    "\n",
    "            selected_model = model_selector.value\n",
    "            domain = domain_selector.value\n",
    "            query = query_input.value\n",
    "            \n",
    "            result = {}\n",
    "            if domain == 'Tax Calculation': result = process_order_request(query, model_name=selected_model)\n",
    "            elif domain == 'Cycling Ride Planner': result = process_ride_plan_request(query, model_name=selected_model)\n",
    "            elif domain == 'Event Planning': result = process_event_plan_request(query, model_name=selected_model)\n",
    "\n",
    "            progress_bar.value = 10\n",
    "            \n",
    "            html_parts = []\n",
    "            if result.get('llm_generated_dsl'):\n",
    "                html_parts.append(\"<h4>1. LLM-Generated DSL Code</h4>\")\n",
    "                html_parts.append(f\"<pre style='background-color:#f5f5f5; border: 1px solid #ccc; padding: 10px; border-radius: 5px;'>{result['llm_generated_dsl']}</pre>\")\n",
    "\n",
    "            html_parts.append(\"<h4>2. Interpreter Execution Result</h4>\")\n",
    "            if result[\"status\"] == \"success\":\n",
    "                dsl_result = result['interpreter_result']\n",
    "                if domain == 'Event Planning':\n",
    "                    sessions_html = ''.join([f\"<li><b>{s['name']}</b> in {s.get('in_venue', 'N/A')} for {s.get('expected_attendees', 0)} people.</li>\" for s in dsl_result['sessions']])\n",
    "                    html_parts.append(f\"<b>✅ Plan '{dsl_result['plan_name']}' Validated Successfully!</b><ul>{sessions_html}</ul>\")\n",
    "                else:\n",
    "                     html_parts.append(f\"<p style='color:green; font-weight:bold;'>Validation Successful!</p><pre>{dsl_result}</pre>\")\n",
    "            else:\n",
    "                html_parts.append(f\"<h4 style='color:red;'>🔴 PROCESSING ERROR</h4><p>{result['message']}</p>\")\n",
    "            \n",
    "            display(HTML(''.join(html_parts)))\n",
    "\n",
    "            run_button.disabled = False\n",
    "            progress_bar.layout.visibility = 'hidden'\n",
    "            progress_bar.value = 0\n",
    "            \n",
    "    run_button.on_click(run_analysis)\n",
    "    print(\"--- Multi-Domain DSL Validator ---\")\n",
    "    on_domain_change({'new': domain_selector.value})\n",
    "    display(VBox([model_selector, domain_selector, query_input, run_button, progress_bar, output_area]))\n",
    "\n",
    "create_multi_domain_ui()"
   ]
  },
  {
   "cell_type": "code",
   "execution_count": null,
   "id": "dccc0887-8b3a-44a2-8946-066be6e1d1b4",
   "metadata": {},
   "outputs": [],
   "source": []
  }
 ],
 "metadata": {
  "kernelspec": {
   "display_name": "Python 3 (ipykernel)",
   "language": "python",
   "name": "python3"
  },
  "language_info": {
   "codemirror_mode": {
    "name": "ipython",
    "version": 3
   },
   "file_extension": ".py",
   "mimetype": "text/x-python",
   "name": "python",
   "nbconvert_exporter": "python",
   "pygments_lexer": "ipython3",
   "version": "3.12.10"
  }
 },
 "nbformat": 4,
 "nbformat_minor": 5
}
